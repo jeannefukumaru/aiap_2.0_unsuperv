{
 "cells": [
  {
   "cell_type": "markdown",
   "metadata": {},
   "source": [
    "### Clustering Case Study 3: Using feature engineering to reframe an unsupervised learning problem as a supervised learning problem so we can predict customer value \n",
    "\n",
    "Not having labelled data at the start of our analysis does not mean we can only apply unsupervised learning techniques on the data. Sometimes, we can reframe the problem to become one that lends itself to supervised learning. This usually requires some creative feature engineering, and we include this final case study to show how this reframing can be done. "
   ]
  },
  {
   "cell_type": "markdown",
   "metadata": {},
   "source": [
    "### Read in the data \n",
    "\n",
    "Read in the cleaned version of the ecommerce data, without normalisation or outlier removal applied it to "
   ]
  },
  {
   "cell_type": "code",
   "execution_count": 2,
   "metadata": {},
   "outputs": [],
   "source": [
    "import pandas as pd \n",
    "import matplotlib.pyplot as plt "
   ]
  },
  {
   "cell_type": "code",
   "execution_count": 6,
   "metadata": {},
   "outputs": [],
   "source": [
    "df = pd.read_csv('data/data.csv', encoding='ISO-8859-1')\n",
    "\n"
   ]
  },
  {
   "cell_type": "markdown",
   "metadata": {},
   "source": [
    "### Calculating each customer's lifetime value \n",
    "\n",
    "1. For the `Invoice Date` for each customer, calculate the customer's purchase timespan by taking `max(df['InvoiceDate]) - min(df['InvoiceDate'].` You should see something like this: \n",
    "![alt text](purchase_timespan.png)\n",
    "\n",
    "2. Filter the dataset to only include purchase timespans > 200 days"
   ]
  },
  {
   "cell_type": "code",
   "execution_count": null,
   "metadata": {},
   "outputs": [],
   "source": []
  }
 ],
 "metadata": {
  "kernelspec": {
   "display_name": "Python 3",
   "language": "python",
   "name": "python3"
  },
  "language_info": {
   "codemirror_mode": {
    "name": "ipython",
    "version": 3
   },
   "file_extension": ".py",
   "mimetype": "text/x-python",
   "name": "python",
   "nbconvert_exporter": "python",
   "pygments_lexer": "ipython3",
   "version": "3.6.4"
  },
  "toc": {
   "base_numbering": 1,
   "nav_menu": {},
   "number_sections": true,
   "sideBar": true,
   "skip_h1_title": false,
   "title_cell": "Table of Contents",
   "title_sidebar": "Contents",
   "toc_cell": false,
   "toc_position": {},
   "toc_section_display": true,
   "toc_window_display": false
  }
 },
 "nbformat": 4,
 "nbformat_minor": 2
}
